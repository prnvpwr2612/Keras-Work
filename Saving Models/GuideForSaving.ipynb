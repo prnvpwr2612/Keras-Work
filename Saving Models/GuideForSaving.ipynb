{
 "cells": [
  {
   "cell_type": "code",
   "execution_count": null,
   "metadata": {},
   "outputs": [],
   "source": [
    "from keras.saving import load_model\n",
    "\n",
    "model = load_model('my_model.keras')\n",
    "\n",
    "model.save('my_model.keras')\n",
    "del model"
   ]
  }
 ],
 "metadata": {
  "language_info": {
   "name": "python"
  }
 },
 "nbformat": 4,
 "nbformat_minor": 2
}
