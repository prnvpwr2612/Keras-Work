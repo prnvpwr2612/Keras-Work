{
 "cells": [
  {
   "cell_type": "code",
   "execution_count": null,
   "metadata": {},
   "outputs": [],
   "source": [
    "from keras.saving import load_model\n",
    "\n",
    "model = load_model('my_model.keras')\n",
    "\n",
    "model.save('my_model.keras')\n",
    "del model"
   ]
  },
  {
   "cell_type": "code",
   "execution_count": null,
   "metadata": {},
   "outputs": [],
   "source": [
    "model.save_weights('my_model.weights.h5')\n",
    "model.load_weights('my_model.weights.h5')\n",
    "model.load_weights('my_model.weights.h5', by_name=True)"
   ]
  },
  {
   "cell_type": "code",
   "execution_count": null,
   "metadata": {},
   "outputs": [],
   "source": [
    "\"\"\"\n",
    "Assuming the original model looks like this:\n",
    "\n",
    "model = Sequential()\n",
    "model.add(Dense(2, input_dim=3, name='dense_1'))\n",
    "model.add(Dense(3, name='dense_2'))\n",
    "...\n",
    "model.save_weights(fname)\n",
    "\"\"\"\n",
    "\n",
    "# new model\n",
    "model = Sequential()\n",
    "model.add(Dense(2, input_dim=3, name='dense_1'))  # will be loaded\n",
    "model.add(Dense(10, name='new_dense'))  # will not be loaded\n",
    "\n",
    "# load weights from the first model; will only affect the first layer, dense_1.\n",
    "model.load_weights(fname, by_name=True)"
   ]
  }
 ],
 "metadata": {
  "language_info": {
   "name": "python"
  }
 },
 "nbformat": 4,
 "nbformat_minor": 2
}
